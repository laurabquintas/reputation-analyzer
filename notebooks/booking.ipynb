{
 "cells": [
  {
   "cell_type": "markdown",
   "id": "7258e596",
   "metadata": {},
   "source": [
    "# Test Booking Score Retrieval"
   ]
  },
  {
   "cell_type": "code",
   "execution_count": 62,
   "id": "fb85be5c",
   "metadata": {},
   "outputs": [],
   "source": [
    "import os\n",
    "import re\n",
    "import json\n",
    "import random\n",
    "from time import sleep\n",
    "from datetime import datetime\n",
    "\n",
    "import pandas as pd\n",
    "import requests\n",
    "from bs4 import BeautifulSoup\n"
   ]
  },
  {
   "cell_type": "code",
   "execution_count": 63,
   "id": "33c6824d",
   "metadata": {},
   "outputs": [],
   "source": [
    "CSV_FILE = 'booking_scores.csv'"
   ]
  },
  {
   "cell_type": "code",
   "execution_count": 64,
   "id": "14d3cf81",
   "metadata": {},
   "outputs": [],
   "source": [
    "URLS = {\n",
    "    \"Ananea Castelo Suites Hotel\": \"https://www.booking.com/hotel/pt/castelo-suites.en-gb.html\",\n",
    "    \"PortoBay Falésia\": \"https://www.booking.com/hotel/pt/porto-bay-falesia.en-gb.html\",\n",
    "    \"Regency Salgados Hotel & Spa\": \"https://www.booking.com/hotel/pt/regency-salgados-amp-spa.en-gb.html\",\n",
    "    \"NAU São Rafael Atlântico\": \"https://www.booking.com/hotel/pt/sao-rafael-suites-all-inclusive.en-gb.html\",\n",
    "    \"NAU Salgados Dunas Suites\": \"https://www.booking.com/hotel/pt/westin-salgados-beach-resort-algarve.en-gb.html\",\n",
    "    \"Vidamar Resort Hotel Algarve\": \"https://www.booking.com/hotel/pt/vidamar-algarve-hotel.en-gb.html\",\n",
    "}"
   ]
  },
  {
   "cell_type": "code",
   "execution_count": 65,
   "id": "525d75f4",
   "metadata": {},
   "outputs": [],
   "source": [
    "UA_HEADERS = {\n",
    "    \"User-Agent\": \"Mozilla/5.0 (Windows NT 10.0; Win64; x64) \"\n",
    "                  \"AppleWebKit/537.36 (KHTML, like Gecko) \"\n",
    "                  \"Chrome/124.0.0.0 Safari/537.36\",\n",
    "    \"Accept\": \"text/html,application/xhtml+xml,application/xml;q=0.9,*/*;q=0.8\",\n",
    "    \"Accept-Language\": \"en-US,en;q=0.8\",\n",
    "    \"Referer\": \"https://www.booking.com/\",\n",
    "}"
   ]
  },
  {
   "cell_type": "code",
   "execution_count": 90,
   "id": "8075d2e7",
   "metadata": {},
   "outputs": [],
   "source": [
    "NUM_RE = re.compile(r\"\\d+(?:[.,]\\d+)?\")\n"
   ]
  },
  {
   "cell_type": "code",
   "execution_count": 78,
   "id": "2a03ddb6",
   "metadata": {},
   "outputs": [],
   "source": [
    "def fetch_booking_rating(url, session, retries=2):\n",
    "    for attempt in range(retries + 1):\n",
    "        try:\n",
    "            r = session.get(url, headers=UA_HEADERS, timeout=20)\n",
    "            r.raise_for_status()\n",
    "            soup = BeautifulSoup(r.text, \"html.parser\")\n",
    "\n",
    "            # look for any <script type=\"application/ld+json\"> with aggregateRating\n",
    "            for tag in soup.find_all(\"script\", type=\"application/ld+json\"):\n",
    "                try:\n",
    "                    data = json.loads(tag.string or \"\")\n",
    "                except Exception:\n",
    "                    continue\n",
    "                if not isinstance(data, dict):\n",
    "                    continue\n",
    "                if \"aggregateRating\" in data:\n",
    "                    rating = data[\"aggregateRating\"].get(\"ratingValue\")\n",
    "                    if rating:\n",
    "                        return float(str(rating).replace(\",\", \".\"))\n",
    "        except Exception as e:\n",
    "            print(f\"[warn] {url} attempt {attempt+1} failed: {e}\")\n",
    "        sleep(random.uniform(2.0, 4.0) * (attempt + 1))\n",
    "    return None\n"
   ]
  },
  {
   "cell_type": "code",
   "execution_count": 79,
   "id": "221cb795",
   "metadata": {},
   "outputs": [],
   "source": [
    "# ---- 3) Load or create CSV ----\n",
    "if not os.path.exists(CSV_FILE):\n",
    "    print(f\"Creating {CSV_FILE} …\")\n",
    "    df = pd.DataFrame(index=list(URLS.keys()))\n",
    "    df.index.name = \"Hotel\"\n",
    "    df[\"Average Score\"] = pd.NA\n",
    "    df.to_csv(CSV_FILE)\n",
    "else:\n",
    "    df = pd.read_csv(CSV_FILE,sep=';', index_col=\"Hotel\")"
   ]
  },
  {
   "cell_type": "code",
   "execution_count": 80,
   "id": "0f13af5c",
   "metadata": {},
   "outputs": [],
   "source": [
    "for h in URLS.keys():\n",
    "    if h not in df.index:\n",
    "        df.loc[h] = pd.Series(dtype=\"float64\")\n",
    "if \"Average Score\" not in df.columns:\n",
    "    df[\"Average Score\"] = pd.NA\n"
   ]
  },
  {
   "cell_type": "code",
   "execution_count": 81,
   "id": "ce696de6",
   "metadata": {},
   "outputs": [],
   "source": [
    "# ---- 4) Fetch today’s scores ----\n",
    "today_col = datetime.now().strftime(\"%Y-%m-%d\")  # date-only column\n",
    "session = requests.Session()"
   ]
  },
  {
   "cell_type": "code",
   "execution_count": 82,
   "id": "24bb076c",
   "metadata": {},
   "outputs": [
    {
     "name": "stdout",
     "output_type": "stream",
     "text": [
      "→ Ananea Castelo Suites Hotel\n",
      "   8.8/10\n",
      "→ PortoBay Falésia\n",
      "   8.7/10\n",
      "→ Regency Salgados Hotel & Spa\n",
      "   8.8/10\n",
      "→ NAU São Rafael Atlântico\n",
      "   8.0/10\n",
      "→ NAU Salgados Dunas Suites\n",
      "   8.2/10\n",
      "→ Vidamar Resort Hotel Algarve\n",
      "   8.1/10\n"
     ]
    }
   ],
   "source": [
    "new_scores = {}\n",
    "for hotel, url in URLS.items():\n",
    "    print(f\"→ {hotel}\")\n",
    "    score = fetch_booking_rating(url, session)\n",
    "    new_scores[hotel] = score\n",
    "    if score is not None:\n",
    "        print(f\"   {score}/10\")\n",
    "    else:\n",
    "        print(\"   (no score)\")\n",
    "    sleep(random.uniform(2.5, 5.0))"
   ]
  },
  {
   "cell_type": "code",
   "execution_count": 87,
   "id": "598d2170",
   "metadata": {},
   "outputs": [],
   "source": [
    "df[today_col] = pd.Series(new_scores)\n",
    "date_cols = [c for c in df.columns if re.fullmatch(r\"\\d{4}-\\d{2}-\\d{2}\", str(c))]\n",
    "if date_cols:\n",
    "    df[\"Average Score\"] = df[date_cols].mean(axis=1, numeric_only=True)"
   ]
  },
  {
   "cell_type": "code",
   "execution_count": 89,
   "id": "7063abd3",
   "metadata": {},
   "outputs": [
    {
     "name": "stdout",
     "output_type": "stream",
     "text": [
      "\n",
      "Saved booking_scores.csv. Added/updated column: 2025-09-20\n",
      "                              2025-09-20\n",
      "Hotel                                   \n",
      "Ananea Castelo Suites Hotel          8.8\n",
      "PortoBay Falésia                     8.7\n",
      "Regency Salgados Hotel & Spa         8.8\n",
      "NAU São Rafael Atlântico             8.0\n",
      "NAU Salgados Dunas Suites            8.2\n",
      "Vidamar Resort Hotel Algarve         8.1\n"
     ]
    }
   ],
   "source": [
    "df.to_csv(CSV_FILE, sep=\";\", index_label=\"Hotel\")\n",
    "print(f\"\\nSaved {CSV_FILE}. Added/updated column: {today_col}\")\n",
    "print(df[[today_col]].dropna())"
   ]
  },
  {
   "cell_type": "code",
   "execution_count": null,
   "id": "9988402e",
   "metadata": {},
   "outputs": [],
   "source": []
  }
 ],
 "metadata": {
  "kernelspec": {
   "display_name": ".conda",
   "language": "python",
   "name": "python3"
  },
  "language_info": {
   "codemirror_mode": {
    "name": "ipython",
    "version": 3
   },
   "file_extension": ".py",
   "mimetype": "text/x-python",
   "name": "python",
   "nbconvert_exporter": "python",
   "pygments_lexer": "ipython3",
   "version": "3.10.18"
  }
 },
 "nbformat": 4,
 "nbformat_minor": 5
}
